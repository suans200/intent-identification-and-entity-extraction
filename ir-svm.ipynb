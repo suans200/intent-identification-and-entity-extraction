{
 "cells": [
  {
   "cell_type": "code",
   "execution_count": 1,
   "id": "83a4bb1e",
   "metadata": {
    "_cell_guid": "b1076dfc-b9ad-4769-8c92-a6c4dae69d19",
    "_uuid": "8f2839f25d086af736a60e9eeb907d3b93b6e0e5",
    "execution": {
     "iopub.execute_input": "2024-08-15T14:36:41.615448Z",
     "iopub.status.busy": "2024-08-15T14:36:41.614188Z",
     "iopub.status.idle": "2024-08-15T14:36:42.563896Z",
     "shell.execute_reply": "2024-08-15T14:36:42.562334Z"
    },
    "papermill": {
     "duration": 0.962632,
     "end_time": "2024-08-15T14:36:42.566740",
     "exception": false,
     "start_time": "2024-08-15T14:36:41.604108",
     "status": "completed"
    },
    "tags": []
   },
   "outputs": [
    {
     "name": "stdout",
     "output_type": "stream",
     "text": [
      "/kaggle/input/test-data/test.csv\n",
      "/kaggle/input/train-data/train.csv\n"
     ]
    }
   ],
   "source": [
    "# This Python 3 environment comes with many helpful analytics libraries installed\n",
    "# It is defined by the kaggle/python Docker image: https://github.com/kaggle/docker-python\n",
    "# For example, here's several helpful packages to load\n",
    "\n",
    "import numpy as np # linear algebra\n",
    "import pandas as pd # data processing, CSV file I/O (e.g. pd.read_csv)\n",
    "\n",
    "# Input data files are available in the read-only \"../input/\" directory\n",
    "# For example, running this (by clicking run or pressing Shift+Enter) will list all files under the input directory\n",
    "\n",
    "import os\n",
    "for dirname, _, filenames in os.walk('/kaggle/input'):\n",
    "    for filename in filenames:\n",
    "        print(os.path.join(dirname, filename))\n",
    "\n",
    "# You can write up to 20GB to the current directory (/kaggle/working/) that gets preserved as output when you create a version using \"Save & Run All\" \n",
    "# You can also write temporary files to /kaggle/temp/, but they won't be saved outside of the current session"
   ]
  },
  {
   "cell_type": "code",
   "execution_count": 2,
   "id": "241f4f58",
   "metadata": {
    "execution": {
     "iopub.execute_input": "2024-08-15T14:36:42.584652Z",
     "iopub.status.busy": "2024-08-15T14:36:42.584124Z",
     "iopub.status.idle": "2024-08-15T14:36:42.679789Z",
     "shell.execute_reply": "2024-08-15T14:36:42.678077Z"
    },
    "papermill": {
     "duration": 0.109085,
     "end_time": "2024-08-15T14:36:42.683975",
     "exception": false,
     "start_time": "2024-08-15T14:36:42.574890",
     "status": "completed"
    },
    "tags": []
   },
   "outputs": [],
   "source": [
    "train_data=pd.read_csv('/kaggle/input/train-data/train.csv')[['question_english', 'Manual_Intent']]\n",
    "test_data=pd.read_csv('/kaggle/input/test-data/test.csv')[['question_english', 'Manual_Intent']]"
   ]
  },
  {
   "cell_type": "code",
   "execution_count": 3,
   "id": "7734f369",
   "metadata": {
    "execution": {
     "iopub.execute_input": "2024-08-15T14:36:42.702509Z",
     "iopub.status.busy": "2024-08-15T14:36:42.701670Z",
     "iopub.status.idle": "2024-08-15T14:36:42.720520Z",
     "shell.execute_reply": "2024-08-15T14:36:42.718779Z"
    },
    "papermill": {
     "duration": 0.031257,
     "end_time": "2024-08-15T14:36:42.723614",
     "exception": false,
     "start_time": "2024-08-15T14:36:42.692357",
     "status": "completed"
    },
    "tags": []
   },
   "outputs": [
    {
     "data": {
      "text/html": [
       "<div>\n",
       "<style scoped>\n",
       "    .dataframe tbody tr th:only-of-type {\n",
       "        vertical-align: middle;\n",
       "    }\n",
       "\n",
       "    .dataframe tbody tr th {\n",
       "        vertical-align: top;\n",
       "    }\n",
       "\n",
       "    .dataframe thead th {\n",
       "        text-align: right;\n",
       "    }\n",
       "</style>\n",
       "<table border=\"1\" class=\"dataframe\">\n",
       "  <thead>\n",
       "    <tr style=\"text-align: right;\">\n",
       "      <th></th>\n",
       "      <th>question_english</th>\n",
       "      <th>Manual_Intent</th>\n",
       "    </tr>\n",
       "  </thead>\n",
       "  <tbody>\n",
       "    <tr>\n",
       "      <th>0</th>\n",
       "      <td>what is nystatin prescribed for?</td>\n",
       "      <td>drug</td>\n",
       "    </tr>\n",
       "    <tr>\n",
       "      <th>1</th>\n",
       "      <td>can douching after sex stop me from getting pr...</td>\n",
       "      <td>other</td>\n",
       "    </tr>\n",
       "    <tr>\n",
       "      <th>2</th>\n",
       "      <td>does percocet cause weight gain</td>\n",
       "      <td>drug</td>\n",
       "    </tr>\n",
       "    <tr>\n",
       "      <th>3</th>\n",
       "      <td>does 2 or 2 1/2 glasses of wine a day caues hi...</td>\n",
       "      <td>disease</td>\n",
       "    </tr>\n",
       "    <tr>\n",
       "      <th>4</th>\n",
       "      <td>can too much buttermilk cause thrush?</td>\n",
       "      <td>disease</td>\n",
       "    </tr>\n",
       "  </tbody>\n",
       "</table>\n",
       "</div>"
      ],
      "text/plain": [
       "                                    question_english Manual_Intent\n",
       "0                   what is nystatin prescribed for?          drug\n",
       "1  can douching after sex stop me from getting pr...         other\n",
       "2                    does percocet cause weight gain          drug\n",
       "3  does 2 or 2 1/2 glasses of wine a day caues hi...       disease\n",
       "4              can too much buttermilk cause thrush?       disease"
      ]
     },
     "execution_count": 3,
     "metadata": {},
     "output_type": "execute_result"
    }
   ],
   "source": [
    "train_data.head()"
   ]
  },
  {
   "cell_type": "code",
   "execution_count": 4,
   "id": "1bf60931",
   "metadata": {
    "execution": {
     "iopub.execute_input": "2024-08-15T14:36:42.742146Z",
     "iopub.status.busy": "2024-08-15T14:36:42.741319Z",
     "iopub.status.idle": "2024-08-15T14:36:42.752617Z",
     "shell.execute_reply": "2024-08-15T14:36:42.751357Z"
    },
    "papermill": {
     "duration": 0.023146,
     "end_time": "2024-08-15T14:36:42.755086",
     "exception": false,
     "start_time": "2024-08-15T14:36:42.731940",
     "status": "completed"
    },
    "tags": []
   },
   "outputs": [
    {
     "data": {
      "text/html": [
       "<div>\n",
       "<style scoped>\n",
       "    .dataframe tbody tr th:only-of-type {\n",
       "        vertical-align: middle;\n",
       "    }\n",
       "\n",
       "    .dataframe tbody tr th {\n",
       "        vertical-align: top;\n",
       "    }\n",
       "\n",
       "    .dataframe thead th {\n",
       "        text-align: right;\n",
       "    }\n",
       "</style>\n",
       "<table border=\"1\" class=\"dataframe\">\n",
       "  <thead>\n",
       "    <tr style=\"text-align: right;\">\n",
       "      <th></th>\n",
       "      <th>question_english</th>\n",
       "      <th>Manual_Intent</th>\n",
       "    </tr>\n",
       "  </thead>\n",
       "  <tbody>\n",
       "    <tr>\n",
       "      <th>0</th>\n",
       "      <td>how common is pregnancy after a hysterectomy?</td>\n",
       "      <td>treatment plan</td>\n",
       "    </tr>\n",
       "    <tr>\n",
       "      <th>1</th>\n",
       "      <td>how effective is generic thyroid medication</td>\n",
       "      <td>drug</td>\n",
       "    </tr>\n",
       "    <tr>\n",
       "      <th>2</th>\n",
       "      <td>is singulair a corticosteroid?</td>\n",
       "      <td>drug</td>\n",
       "    </tr>\n",
       "    <tr>\n",
       "      <th>3</th>\n",
       "      <td>can you take advil with homeopathic ear drops</td>\n",
       "      <td>drug</td>\n",
       "    </tr>\n",
       "    <tr>\n",
       "      <th>4</th>\n",
       "      <td>is bell's palsy contagious?</td>\n",
       "      <td>disease</td>\n",
       "    </tr>\n",
       "  </tbody>\n",
       "</table>\n",
       "</div>"
      ],
      "text/plain": [
       "                                question_english   Manual_Intent\n",
       "0  how common is pregnancy after a hysterectomy?  treatment plan\n",
       "1    how effective is generic thyroid medication            drug\n",
       "2                 is singulair a corticosteroid?            drug\n",
       "3  can you take advil with homeopathic ear drops            drug\n",
       "4                    is bell's palsy contagious?         disease"
      ]
     },
     "execution_count": 4,
     "metadata": {},
     "output_type": "execute_result"
    }
   ],
   "source": [
    "test_data.head()"
   ]
  },
  {
   "cell_type": "code",
   "execution_count": 5,
   "id": "ccff27f3",
   "metadata": {
    "execution": {
     "iopub.execute_input": "2024-08-15T14:36:42.774370Z",
     "iopub.status.busy": "2024-08-15T14:36:42.773370Z",
     "iopub.status.idle": "2024-08-15T14:36:42.784076Z",
     "shell.execute_reply": "2024-08-15T14:36:42.783058Z"
    },
    "papermill": {
     "duration": 0.022881,
     "end_time": "2024-08-15T14:36:42.786412",
     "exception": false,
     "start_time": "2024-08-15T14:36:42.763531",
     "status": "completed"
    },
    "tags": []
   },
   "outputs": [
    {
     "data": {
      "text/plain": [
       "4"
      ]
     },
     "execution_count": 5,
     "metadata": {},
     "output_type": "execute_result"
    }
   ],
   "source": [
    "train_data['Manual_Intent'].nunique()"
   ]
  },
  {
   "cell_type": "code",
   "execution_count": 6,
   "id": "a2baca54",
   "metadata": {
    "execution": {
     "iopub.execute_input": "2024-08-15T14:36:42.805234Z",
     "iopub.status.busy": "2024-08-15T14:36:42.804694Z",
     "iopub.status.idle": "2024-08-15T14:36:44.039446Z",
     "shell.execute_reply": "2024-08-15T14:36:44.038268Z"
    },
    "papermill": {
     "duration": 1.247496,
     "end_time": "2024-08-15T14:36:44.042390",
     "exception": false,
     "start_time": "2024-08-15T14:36:42.794894",
     "status": "completed"
    },
    "tags": []
   },
   "outputs": [],
   "source": [
    "from sklearn.preprocessing import LabelEncoder\n",
    "label_encoder=LabelEncoder()"
   ]
  },
  {
   "cell_type": "code",
   "execution_count": 7,
   "id": "273c3726",
   "metadata": {
    "execution": {
     "iopub.execute_input": "2024-08-15T14:36:44.061388Z",
     "iopub.status.busy": "2024-08-15T14:36:44.060948Z",
     "iopub.status.idle": "2024-08-15T14:36:44.068268Z",
     "shell.execute_reply": "2024-08-15T14:36:44.066932Z"
    },
    "papermill": {
     "duration": 0.019644,
     "end_time": "2024-08-15T14:36:44.070763",
     "exception": false,
     "start_time": "2024-08-15T14:36:44.051119",
     "status": "completed"
    },
    "tags": []
   },
   "outputs": [],
   "source": [
    "train_data['Encoded']=label_encoder.fit_transform(train_data['Manual_Intent'])"
   ]
  },
  {
   "cell_type": "code",
   "execution_count": 8,
   "id": "43109916",
   "metadata": {
    "execution": {
     "iopub.execute_input": "2024-08-15T14:36:44.089738Z",
     "iopub.status.busy": "2024-08-15T14:36:44.089320Z",
     "iopub.status.idle": "2024-08-15T14:36:44.097467Z",
     "shell.execute_reply": "2024-08-15T14:36:44.096271Z"
    },
    "papermill": {
     "duration": 0.020704,
     "end_time": "2024-08-15T14:36:44.100082",
     "exception": false,
     "start_time": "2024-08-15T14:36:44.079378",
     "status": "completed"
    },
    "tags": []
   },
   "outputs": [],
   "source": [
    "train_data.drop(columns=['Manual_Intent'],inplace=True)"
   ]
  },
  {
   "cell_type": "code",
   "execution_count": 9,
   "id": "418606c9",
   "metadata": {
    "execution": {
     "iopub.execute_input": "2024-08-15T14:36:44.118925Z",
     "iopub.status.busy": "2024-08-15T14:36:44.118512Z",
     "iopub.status.idle": "2024-08-15T14:36:44.129565Z",
     "shell.execute_reply": "2024-08-15T14:36:44.128302Z"
    },
    "papermill": {
     "duration": 0.023854,
     "end_time": "2024-08-15T14:36:44.132494",
     "exception": false,
     "start_time": "2024-08-15T14:36:44.108640",
     "status": "completed"
    },
    "tags": []
   },
   "outputs": [
    {
     "data": {
      "text/html": [
       "<div>\n",
       "<style scoped>\n",
       "    .dataframe tbody tr th:only-of-type {\n",
       "        vertical-align: middle;\n",
       "    }\n",
       "\n",
       "    .dataframe tbody tr th {\n",
       "        vertical-align: top;\n",
       "    }\n",
       "\n",
       "    .dataframe thead th {\n",
       "        text-align: right;\n",
       "    }\n",
       "</style>\n",
       "<table border=\"1\" class=\"dataframe\">\n",
       "  <thead>\n",
       "    <tr style=\"text-align: right;\">\n",
       "      <th></th>\n",
       "      <th>question_english</th>\n",
       "      <th>Encoded</th>\n",
       "    </tr>\n",
       "  </thead>\n",
       "  <tbody>\n",
       "    <tr>\n",
       "      <th>0</th>\n",
       "      <td>what is nystatin prescribed for?</td>\n",
       "      <td>1</td>\n",
       "    </tr>\n",
       "    <tr>\n",
       "      <th>1</th>\n",
       "      <td>can douching after sex stop me from getting pr...</td>\n",
       "      <td>2</td>\n",
       "    </tr>\n",
       "    <tr>\n",
       "      <th>2</th>\n",
       "      <td>does percocet cause weight gain</td>\n",
       "      <td>1</td>\n",
       "    </tr>\n",
       "    <tr>\n",
       "      <th>3</th>\n",
       "      <td>does 2 or 2 1/2 glasses of wine a day caues hi...</td>\n",
       "      <td>0</td>\n",
       "    </tr>\n",
       "    <tr>\n",
       "      <th>4</th>\n",
       "      <td>can too much buttermilk cause thrush?</td>\n",
       "      <td>0</td>\n",
       "    </tr>\n",
       "  </tbody>\n",
       "</table>\n",
       "</div>"
      ],
      "text/plain": [
       "                                    question_english  Encoded\n",
       "0                   what is nystatin prescribed for?        1\n",
       "1  can douching after sex stop me from getting pr...        2\n",
       "2                    does percocet cause weight gain        1\n",
       "3  does 2 or 2 1/2 glasses of wine a day caues hi...        0\n",
       "4              can too much buttermilk cause thrush?        0"
      ]
     },
     "execution_count": 9,
     "metadata": {},
     "output_type": "execute_result"
    }
   ],
   "source": [
    "train_data.head()"
   ]
  },
  {
   "cell_type": "code",
   "execution_count": 10,
   "id": "670c8f29",
   "metadata": {
    "execution": {
     "iopub.execute_input": "2024-08-15T14:36:44.152183Z",
     "iopub.status.busy": "2024-08-15T14:36:44.151756Z",
     "iopub.status.idle": "2024-08-15T14:36:44.158675Z",
     "shell.execute_reply": "2024-08-15T14:36:44.157500Z"
    },
    "papermill": {
     "duration": 0.0201,
     "end_time": "2024-08-15T14:36:44.161502",
     "exception": false,
     "start_time": "2024-08-15T14:36:44.141402",
     "status": "completed"
    },
    "tags": []
   },
   "outputs": [],
   "source": [
    "test_data['Encoded']=label_encoder.transform(test_data['Manual_Intent'])"
   ]
  },
  {
   "cell_type": "code",
   "execution_count": 11,
   "id": "f846ad00",
   "metadata": {
    "execution": {
     "iopub.execute_input": "2024-08-15T14:36:44.180756Z",
     "iopub.status.busy": "2024-08-15T14:36:44.180345Z",
     "iopub.status.idle": "2024-08-15T14:36:44.186903Z",
     "shell.execute_reply": "2024-08-15T14:36:44.185648Z"
    },
    "papermill": {
     "duration": 0.019128,
     "end_time": "2024-08-15T14:36:44.189473",
     "exception": false,
     "start_time": "2024-08-15T14:36:44.170345",
     "status": "completed"
    },
    "tags": []
   },
   "outputs": [],
   "source": [
    "test_data['Encoded']=label_encoder.transform(test_data['Manual_Intent'])"
   ]
  },
  {
   "cell_type": "code",
   "execution_count": 12,
   "id": "3ba2a824",
   "metadata": {
    "execution": {
     "iopub.execute_input": "2024-08-15T14:36:44.209868Z",
     "iopub.status.busy": "2024-08-15T14:36:44.208473Z",
     "iopub.status.idle": "2024-08-15T14:36:44.220857Z",
     "shell.execute_reply": "2024-08-15T14:36:44.219477Z"
    },
    "papermill": {
     "duration": 0.025123,
     "end_time": "2024-08-15T14:36:44.223617",
     "exception": false,
     "start_time": "2024-08-15T14:36:44.198494",
     "status": "completed"
    },
    "tags": []
   },
   "outputs": [
    {
     "data": {
      "text/html": [
       "<div>\n",
       "<style scoped>\n",
       "    .dataframe tbody tr th:only-of-type {\n",
       "        vertical-align: middle;\n",
       "    }\n",
       "\n",
       "    .dataframe tbody tr th {\n",
       "        vertical-align: top;\n",
       "    }\n",
       "\n",
       "    .dataframe thead th {\n",
       "        text-align: right;\n",
       "    }\n",
       "</style>\n",
       "<table border=\"1\" class=\"dataframe\">\n",
       "  <thead>\n",
       "    <tr style=\"text-align: right;\">\n",
       "      <th></th>\n",
       "      <th>question_english</th>\n",
       "      <th>Encoded</th>\n",
       "    </tr>\n",
       "  </thead>\n",
       "  <tbody>\n",
       "    <tr>\n",
       "      <th>0</th>\n",
       "      <td>how common is pregnancy after a hysterectomy?</td>\n",
       "      <td>3</td>\n",
       "    </tr>\n",
       "    <tr>\n",
       "      <th>1</th>\n",
       "      <td>how effective is generic thyroid medication</td>\n",
       "      <td>1</td>\n",
       "    </tr>\n",
       "    <tr>\n",
       "      <th>2</th>\n",
       "      <td>is singulair a corticosteroid?</td>\n",
       "      <td>1</td>\n",
       "    </tr>\n",
       "    <tr>\n",
       "      <th>3</th>\n",
       "      <td>can you take advil with homeopathic ear drops</td>\n",
       "      <td>1</td>\n",
       "    </tr>\n",
       "    <tr>\n",
       "      <th>4</th>\n",
       "      <td>is bell's palsy contagious?</td>\n",
       "      <td>0</td>\n",
       "    </tr>\n",
       "  </tbody>\n",
       "</table>\n",
       "</div>"
      ],
      "text/plain": [
       "                                question_english  Encoded\n",
       "0  how common is pregnancy after a hysterectomy?        3\n",
       "1    how effective is generic thyroid medication        1\n",
       "2                 is singulair a corticosteroid?        1\n",
       "3  can you take advil with homeopathic ear drops        1\n",
       "4                    is bell's palsy contagious?        0"
      ]
     },
     "execution_count": 12,
     "metadata": {},
     "output_type": "execute_result"
    }
   ],
   "source": [
    "test_data.head()"
   ]
  },
  {
   "cell_type": "code",
   "execution_count": 13,
   "id": "0eb376d4",
   "metadata": {
    "execution": {
     "iopub.execute_input": "2024-08-15T14:36:44.243628Z",
     "iopub.status.busy": "2024-08-15T14:36:44.243167Z",
     "iopub.status.idle": "2024-08-15T14:36:44.263171Z",
     "shell.execute_reply": "2024-08-15T14:36:44.261806Z"
    },
    "papermill": {
     "duration": 0.033313,
     "end_time": "2024-08-15T14:36:44.266026",
     "exception": false,
     "start_time": "2024-08-15T14:36:44.232713",
     "status": "completed"
    },
    "tags": []
   },
   "outputs": [
    {
     "name": "stdout",
     "output_type": "stream",
     "text": [
      "<class 'pandas.core.frame.DataFrame'>\n",
      "RangeIndex: 720 entries, 0 to 719\n",
      "Data columns (total 2 columns):\n",
      " #   Column            Non-Null Count  Dtype \n",
      "---  ------            --------------  ----- \n",
      " 0   question_english  720 non-null    object\n",
      " 1   Encoded           720 non-null    int64 \n",
      "dtypes: int64(1), object(1)\n",
      "memory usage: 11.4+ KB\n"
     ]
    }
   ],
   "source": [
    "train_data.info()"
   ]
  },
  {
   "cell_type": "code",
   "execution_count": 14,
   "id": "af85f20b",
   "metadata": {
    "execution": {
     "iopub.execute_input": "2024-08-15T14:36:44.287339Z",
     "iopub.status.busy": "2024-08-15T14:36:44.286905Z",
     "iopub.status.idle": "2024-08-15T14:36:44.516729Z",
     "shell.execute_reply": "2024-08-15T14:36:44.515567Z"
    },
    "papermill": {
     "duration": 0.24409,
     "end_time": "2024-08-15T14:36:44.519682",
     "exception": false,
     "start_time": "2024-08-15T14:36:44.275592",
     "status": "completed"
    },
    "tags": []
   },
   "outputs": [],
   "source": [
    "from sklearn.feature_extraction.text import TfidfVectorizer\n",
    "from sklearn import svm"
   ]
  },
  {
   "cell_type": "code",
   "execution_count": 15,
   "id": "7145d62f",
   "metadata": {
    "execution": {
     "iopub.execute_input": "2024-08-15T14:36:44.539626Z",
     "iopub.status.busy": "2024-08-15T14:36:44.539224Z",
     "iopub.status.idle": "2024-08-15T14:36:44.544991Z",
     "shell.execute_reply": "2024-08-15T14:36:44.543798Z"
    },
    "papermill": {
     "duration": 0.018494,
     "end_time": "2024-08-15T14:36:44.547378",
     "exception": false,
     "start_time": "2024-08-15T14:36:44.528884",
     "status": "completed"
    },
    "tags": []
   },
   "outputs": [],
   "source": [
    "tf=TfidfVectorizer(stop_words='english',min_df=5,max_df=1000)"
   ]
  },
  {
   "cell_type": "code",
   "execution_count": 16,
   "id": "2c66d1db",
   "metadata": {
    "execution": {
     "iopub.execute_input": "2024-08-15T14:36:44.567632Z",
     "iopub.status.busy": "2024-08-15T14:36:44.567182Z",
     "iopub.status.idle": "2024-08-15T14:36:44.602162Z",
     "shell.execute_reply": "2024-08-15T14:36:44.600984Z"
    },
    "papermill": {
     "duration": 0.048679,
     "end_time": "2024-08-15T14:36:44.605102",
     "exception": false,
     "start_time": "2024-08-15T14:36:44.556423",
     "status": "completed"
    },
    "tags": []
   },
   "outputs": [],
   "source": [
    "train_dataa=tf.fit_transform(train_data['question_english'])"
   ]
  },
  {
   "cell_type": "code",
   "execution_count": 17,
   "id": "5a179cae",
   "metadata": {
    "execution": {
     "iopub.execute_input": "2024-08-15T14:36:44.625562Z",
     "iopub.status.busy": "2024-08-15T14:36:44.624758Z",
     "iopub.status.idle": "2024-08-15T14:36:44.635784Z",
     "shell.execute_reply": "2024-08-15T14:36:44.634665Z"
    },
    "papermill": {
     "duration": 0.02377,
     "end_time": "2024-08-15T14:36:44.638156",
     "exception": false,
     "start_time": "2024-08-15T14:36:44.614386",
     "status": "completed"
    },
    "tags": []
   },
   "outputs": [],
   "source": [
    "test_dataa=tf.transform(test_data['question_english'])"
   ]
  },
  {
   "cell_type": "code",
   "execution_count": 18,
   "id": "0b1879ab",
   "metadata": {
    "execution": {
     "iopub.execute_input": "2024-08-15T14:36:44.658032Z",
     "iopub.status.busy": "2024-08-15T14:36:44.657596Z",
     "iopub.status.idle": "2024-08-15T14:36:44.696433Z",
     "shell.execute_reply": "2024-08-15T14:36:44.695274Z"
    },
    "papermill": {
     "duration": 0.051937,
     "end_time": "2024-08-15T14:36:44.699151",
     "exception": false,
     "start_time": "2024-08-15T14:36:44.647214",
     "status": "completed"
    },
    "tags": []
   },
   "outputs": [
    {
     "data": {
      "text/html": [
       "<style>#sk-container-id-1 {color: black;background-color: white;}#sk-container-id-1 pre{padding: 0;}#sk-container-id-1 div.sk-toggleable {background-color: white;}#sk-container-id-1 label.sk-toggleable__label {cursor: pointer;display: block;width: 100%;margin-bottom: 0;padding: 0.3em;box-sizing: border-box;text-align: center;}#sk-container-id-1 label.sk-toggleable__label-arrow:before {content: \"▸\";float: left;margin-right: 0.25em;color: #696969;}#sk-container-id-1 label.sk-toggleable__label-arrow:hover:before {color: black;}#sk-container-id-1 div.sk-estimator:hover label.sk-toggleable__label-arrow:before {color: black;}#sk-container-id-1 div.sk-toggleable__content {max-height: 0;max-width: 0;overflow: hidden;text-align: left;background-color: #f0f8ff;}#sk-container-id-1 div.sk-toggleable__content pre {margin: 0.2em;color: black;border-radius: 0.25em;background-color: #f0f8ff;}#sk-container-id-1 input.sk-toggleable__control:checked~div.sk-toggleable__content {max-height: 200px;max-width: 100%;overflow: auto;}#sk-container-id-1 input.sk-toggleable__control:checked~label.sk-toggleable__label-arrow:before {content: \"▾\";}#sk-container-id-1 div.sk-estimator input.sk-toggleable__control:checked~label.sk-toggleable__label {background-color: #d4ebff;}#sk-container-id-1 div.sk-label input.sk-toggleable__control:checked~label.sk-toggleable__label {background-color: #d4ebff;}#sk-container-id-1 input.sk-hidden--visually {border: 0;clip: rect(1px 1px 1px 1px);clip: rect(1px, 1px, 1px, 1px);height: 1px;margin: -1px;overflow: hidden;padding: 0;position: absolute;width: 1px;}#sk-container-id-1 div.sk-estimator {font-family: monospace;background-color: #f0f8ff;border: 1px dotted black;border-radius: 0.25em;box-sizing: border-box;margin-bottom: 0.5em;}#sk-container-id-1 div.sk-estimator:hover {background-color: #d4ebff;}#sk-container-id-1 div.sk-parallel-item::after {content: \"\";width: 100%;border-bottom: 1px solid gray;flex-grow: 1;}#sk-container-id-1 div.sk-label:hover label.sk-toggleable__label {background-color: #d4ebff;}#sk-container-id-1 div.sk-serial::before {content: \"\";position: absolute;border-left: 1px solid gray;box-sizing: border-box;top: 0;bottom: 0;left: 50%;z-index: 0;}#sk-container-id-1 div.sk-serial {display: flex;flex-direction: column;align-items: center;background-color: white;padding-right: 0.2em;padding-left: 0.2em;position: relative;}#sk-container-id-1 div.sk-item {position: relative;z-index: 1;}#sk-container-id-1 div.sk-parallel {display: flex;align-items: stretch;justify-content: center;background-color: white;position: relative;}#sk-container-id-1 div.sk-item::before, #sk-container-id-1 div.sk-parallel-item::before {content: \"\";position: absolute;border-left: 1px solid gray;box-sizing: border-box;top: 0;bottom: 0;left: 50%;z-index: -1;}#sk-container-id-1 div.sk-parallel-item {display: flex;flex-direction: column;z-index: 1;position: relative;background-color: white;}#sk-container-id-1 div.sk-parallel-item:first-child::after {align-self: flex-end;width: 50%;}#sk-container-id-1 div.sk-parallel-item:last-child::after {align-self: flex-start;width: 50%;}#sk-container-id-1 div.sk-parallel-item:only-child::after {width: 0;}#sk-container-id-1 div.sk-dashed-wrapped {border: 1px dashed gray;margin: 0 0.4em 0.5em 0.4em;box-sizing: border-box;padding-bottom: 0.4em;background-color: white;}#sk-container-id-1 div.sk-label label {font-family: monospace;font-weight: bold;display: inline-block;line-height: 1.2em;}#sk-container-id-1 div.sk-label-container {text-align: center;}#sk-container-id-1 div.sk-container {/* jupyter's `normalize.less` sets `[hidden] { display: none; }` but bootstrap.min.css set `[hidden] { display: none !important; }` so we also need the `!important` here to be able to override the default hidden behavior on the sphinx rendered scikit-learn.org. See: https://github.com/scikit-learn/scikit-learn/issues/21755 */display: inline-block !important;position: relative;}#sk-container-id-1 div.sk-text-repr-fallback {display: none;}</style><div id=\"sk-container-id-1\" class=\"sk-top-container\"><div class=\"sk-text-repr-fallback\"><pre>SVC(kernel=&#x27;linear&#x27;)</pre><b>In a Jupyter environment, please rerun this cell to show the HTML representation or trust the notebook. <br />On GitHub, the HTML representation is unable to render, please try loading this page with nbviewer.org.</b></div><div class=\"sk-container\" hidden><div class=\"sk-item\"><div class=\"sk-estimator sk-toggleable\"><input class=\"sk-toggleable__control sk-hidden--visually\" id=\"sk-estimator-id-1\" type=\"checkbox\" checked><label for=\"sk-estimator-id-1\" class=\"sk-toggleable__label sk-toggleable__label-arrow\">SVC</label><div class=\"sk-toggleable__content\"><pre>SVC(kernel=&#x27;linear&#x27;)</pre></div></div></div></div></div>"
      ],
      "text/plain": [
       "SVC(kernel='linear')"
      ]
     },
     "execution_count": 18,
     "metadata": {},
     "output_type": "execute_result"
    }
   ],
   "source": [
    "model=svm.SVC(kernel='linear')\n",
    "model.fit(train_dataa,train_data['Encoded'])"
   ]
  },
  {
   "cell_type": "code",
   "execution_count": 19,
   "id": "7bd298cd",
   "metadata": {
    "execution": {
     "iopub.execute_input": "2024-08-15T14:36:44.720538Z",
     "iopub.status.busy": "2024-08-15T14:36:44.719407Z",
     "iopub.status.idle": "2024-08-15T14:36:44.728927Z",
     "shell.execute_reply": "2024-08-15T14:36:44.727799Z"
    },
    "papermill": {
     "duration": 0.02311,
     "end_time": "2024-08-15T14:36:44.731731",
     "exception": false,
     "start_time": "2024-08-15T14:36:44.708621",
     "status": "completed"
    },
    "tags": []
   },
   "outputs": [],
   "source": [
    "train_data=pd.read_csv('train.csv')[['question_english', 'Manual_Intent']]\n",
    "test_data=pd.read_csv('test.csv')[['question_english', 'Manual_Intent']]\n",
    "\n",
    "label_encoder=LabelEncoder()\n",
    "train_data['Encoded']=label_encoder.fit_transform(train_data['Manual_Intent'])\n",
    "train_data.drop(columns=['Manual_Intent'],inplace=True)\n",
    "test_data['Encoded']=label_encoder.transform(test_data['Manual_Intent'])\n",
    "test_data.drop(columns=['Manual_Intent'],inplace=True)\n"
   ]
  },
  {
   "cell_type": "code",
   "execution_count": 20,
   "id": "d2733a87",
   "metadata": {
    "execution": {
     "iopub.execute_input": "2024-08-15T14:36:44.752115Z",
     "iopub.status.busy": "2024-08-15T14:36:44.751703Z",
     "iopub.status.idle": "2024-08-15T14:36:45.169493Z",
     "shell.execute_reply": "2024-08-15T14:36:45.168369Z"
    },
    "papermill": {
     "duration": 0.431256,
     "end_time": "2024-08-15T14:36:45.172399",
     "exception": false,
     "start_time": "2024-08-15T14:36:44.741143",
     "status": "completed"
    },
    "tags": []
   },
   "outputs": [],
   "source": [
    "from sklearn.metrics import confusion_matrix, classification_report\n",
    "import seaborn as sns"
   ]
  },
  {
   "cell_type": "code",
   "execution_count": 21,
   "id": "cea20101",
   "metadata": {
    "execution": {
     "iopub.execute_input": "2024-08-15T14:36:45.192847Z",
     "iopub.status.busy": "2024-08-15T14:36:45.192411Z",
     "iopub.status.idle": "2024-08-15T14:36:45.209799Z",
     "shell.execute_reply": "2024-08-15T14:36:45.208354Z"
    },
    "papermill": {
     "duration": 0.030829,
     "end_time": "2024-08-15T14:36:45.212638",
     "exception": false,
     "start_time": "2024-08-15T14:36:45.181809",
     "status": "completed"
    },
    "tags": []
   },
   "outputs": [
    {
     "name": "stdout",
     "output_type": "stream",
     "text": [
      "              precision    recall  f1-score   support\n",
      "\n",
      "           0       0.51      0.70      0.59        76\n",
      "           1       0.47      0.45      0.46        53\n",
      "           2       0.56      0.52      0.54        73\n",
      "           3       0.79      0.38      0.52        39\n",
      "\n",
      "    accuracy                           0.54       241\n",
      "   macro avg       0.58      0.51      0.53       241\n",
      "weighted avg       0.56      0.54      0.54       241\n",
      "\n"
     ]
    }
   ],
   "source": [
    "print(classification_report(test_data['Encoded'], y_pred))"
   ]
  },
  {
   "cell_type": "code",
   "execution_count": null,
   "id": "176b62c7",
   "metadata": {
    "papermill": {
     "duration": 0.009098,
     "end_time": "2024-08-15T14:36:45.231465",
     "exception": false,
     "start_time": "2024-08-15T14:36:45.222367",
     "status": "completed"
    },
    "tags": []
   },
   "outputs": [],
   "source": []
  }
 ],
 "metadata": {
  "kaggle": {
   "accelerator": "none",
   "dataSources": [
    {
     "datasetId": 5548269,
     "sourceId": 9179769,
     "sourceType": "datasetVersion"
    },
    {
     "datasetId": 5548273,
     "sourceId": 9179774,
     "sourceType": "datasetVersion"
    }
   ],
   "dockerImageVersionId": 30746,
   "isGpuEnabled": false,
   "isInternetEnabled": false,
   "language": "python",
   "sourceType": "notebook"
  },
  "kernelspec": {
   "display_name": "Python 3",
   "language": "python",
   "name": "python3"
  },
  "language_info": {
   "codemirror_mode": {
    "name": "ipython",
    "version": 3
   },
   "file_extension": ".py",
   "mimetype": "text/x-python",
   "name": "python",
   "nbconvert_exporter": "python",
   "pygments_lexer": "ipython3",
   "version": "3.10.13"
  },
  "papermill": {
   "default_parameters": {},
   "duration": 7.475167,
   "end_time": "2024-08-15T14:36:45.862627",
   "environment_variables": {},
   "exception": null,
   "input_path": "__notebook__.ipynb",
   "output_path": "__notebook__.ipynb",
   "parameters": {},
   "start_time": "2024-08-15T14:36:38.387460",
   "version": "2.5.0"
  }
 },
 "nbformat": 4,
 "nbformat_minor": 5
}
